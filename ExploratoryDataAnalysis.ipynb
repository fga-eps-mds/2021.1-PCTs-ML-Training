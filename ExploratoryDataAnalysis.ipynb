{
 "cells": [
  {
   "cell_type": "code",
   "execution_count": 25,
   "id": "fb4ba895-95fc-4c13-a8b3-4b43cc628843",
   "metadata": {},
   "outputs": [],
   "source": [
    "import pandas as pd\n",
    "import matplotlib.pyplot as plt"
   ]
  },
  {
   "cell_type": "code",
   "execution_count": 8,
   "id": "8ffee64b-3b8f-47ea-a8d2-22f0118f8685",
   "metadata": {},
   "outputs": [],
   "source": [
    "def mount_pie_chart(labels, sizes):\n",
    "    \n",
    "    fig1, ax1 = plt.subplots()\n",
    "    ax1.pie(sizes, labels=labels, autopct='%1.1f%%',\n",
    "            shadow=True, startangle=90)\n",
    "    ax1.axis('equal')  # Equal aspect ratio ensures that pie is drawn as a circle.\n",
    "\n",
    "    plt.show()"
   ]
  },
  {
   "cell_type": "markdown",
   "id": "7127c45f-6f08-4dfa-b853-1afa01b1e279",
   "metadata": {},
   "source": [
    "## Exploratory Data Analysys v1"
   ]
  },
  {
   "cell_type": "code",
   "execution_count": 2,
   "id": "2b991ebe-242f-4d0a-a913-c0ed7b4e46f5",
   "metadata": {},
   "outputs": [],
   "source": [
    "df = pd.read_parquet('./Data/training_data/df_v1.parquet.gzip')"
   ]
  },
  {
   "cell_type": "code",
   "execution_count": 4,
   "id": "8b011b86-214d-4b11-81b2-3fa8de6b4417",
   "metadata": {},
   "outputs": [
    {
     "name": "stdout",
     "output_type": "stream",
     "text": [
      "<class 'pandas.core.frame.DataFrame'>\n",
      "Int64Index: 413 entries, 0 to 69\n",
      "Data columns (total 5 columns):\n",
      " #   Column         Non-Null Count  Dtype \n",
      "---  ------         --------------  ----- \n",
      " 0   palavra_chave  289 non-null    object\n",
      " 1   tipo           409 non-null    object\n",
      " 2   fonte          407 non-null    object\n",
      " 3   texto          413 non-null    object\n",
      " 4   y              411 non-null    object\n",
      "dtypes: object(5)\n",
      "memory usage: 19.4+ KB\n"
     ]
    }
   ],
   "source": [
    "df.info()"
   ]
  },
  {
   "cell_type": "markdown",
   "id": "510eb0e7-160e-4cff-869d-cb83e40bfed9",
   "metadata": {},
   "source": [
    "## `palavra_chave` distribution"
   ]
  },
  {
   "cell_type": "code",
   "execution_count": 6,
   "id": "49a27ef5-54e7-471a-a18b-d1a805310b81",
   "metadata": {},
   "outputs": [
    {
     "data": {
      "text/plain": [
       "TERRITÓRIO                                                                           70\n",
       "Conflito                                                                             20\n",
       "quilombo                                                                              5\n",
       "ilhéus                                                                                2\n",
       "proteção territorial                                                                  2\n",
       "                                                                                     ..\n",
       "comunidades indígenas; movimentos indígenas; território tradicionalmente ocupado      1\n",
       "biopirataria; conhecimento local; direitos humanos                                    1\n",
       "povos indígenas; Estado Plurinacional                                                 1\n",
       "conhecimentos ancestrais                                                              1\n",
       "políticas desenvolvimentistas                                                         1\n",
       "Name: palavra_chave, Length: 193, dtype: int64"
      ]
     },
     "execution_count": 6,
     "metadata": {},
     "output_type": "execute_result"
    }
   ],
   "source": [
    "df.palavra_chave.value_counts()"
   ]
  },
  {
   "cell_type": "markdown",
   "id": "58ab3eb7-0179-4100-99ed-bb8de98a84ea",
   "metadata": {},
   "source": [
    "## `palavra_chave` distribution"
   ]
  },
  {
   "cell_type": "code",
   "execution_count": 6,
   "id": "57ae0f04-c578-456d-985c-ed438f54680f",
   "metadata": {},
   "outputs": [
    {
     "data": {
      "text/plain": [
       "TERRITÓRIO                                                                           70\n",
       "Conflito                                                                             20\n",
       "quilombo                                                                              5\n",
       "ilhéus                                                                                2\n",
       "proteção territorial                                                                  2\n",
       "                                                                                     ..\n",
       "comunidades indígenas; movimentos indígenas; território tradicionalmente ocupado      1\n",
       "biopirataria; conhecimento local; direitos humanos                                    1\n",
       "povos indígenas; Estado Plurinacional                                                 1\n",
       "conhecimentos ancestrais                                                              1\n",
       "políticas desenvolvimentistas                                                         1\n",
       "Name: palavra_chave, Length: 193, dtype: int64"
      ]
     },
     "execution_count": 6,
     "metadata": {},
     "output_type": "execute_result"
    }
   ],
   "source": [
    "df.palavra_chave.value_counts()"
   ]
  },
  {
   "cell_type": "markdown",
   "id": "eac4cc9d-3f73-4081-932c-6f0fee3cea44",
   "metadata": {},
   "source": [
    "## `tipo` distribution"
   ]
  },
  {
   "cell_type": "code",
   "execution_count": 27,
   "id": "2d60c4c1-03f5-43cc-94bb-aa9a74cb4671",
   "metadata": {},
   "outputs": [
    {
     "data": {
      "text/plain": [
       "Positiva     308\n",
       "Positivos     70\n",
       "Negativa      31\n",
       "Name: tipo, dtype: int64"
      ]
     },
     "execution_count": 27,
     "metadata": {},
     "output_type": "execute_result"
    }
   ],
   "source": [
    "df.tipo.value_counts()"
   ]
  },
  {
   "cell_type": "markdown",
   "id": "6eb43a26-c88b-4a30-b1a7-a8562eb2c72c",
   "metadata": {},
   "source": [
    "## `fonte` distribution"
   ]
  },
  {
   "cell_type": "code",
   "execution_count": 28,
   "id": "5d8513f3-b44f-4f37-b75c-09e99612eeba",
   "metadata": {},
   "outputs": [
    {
     "data": {
      "text/plain": [
       "Positiva     308\n",
       "Positivos     70\n",
       "Negativa      31\n",
       "Name: tipo, dtype: int64"
      ]
     },
     "execution_count": 28,
     "metadata": {},
     "output_type": "execute_result"
    }
   ],
   "source": [
    "df.tipo.value_counts()"
   ]
  },
  {
   "cell_type": "markdown",
   "id": "ecf54ba4-7148-4075-b137-b6b913249e16",
   "metadata": {},
   "source": [
    "## `y` distribution"
   ]
  },
  {
   "cell_type": "code",
   "execution_count": 30,
   "id": "368e3c61-3a5e-4cdd-a2c1-42c42c6928c4",
   "metadata": {},
   "outputs": [
    {
     "data": {
      "text/plain": [
       "Território                             148\n",
       "Quilombolas                             81\n",
       "Território;Quilombolas                  70\n",
       "identidade                              61\n",
       "Conflito                                19\n",
       "identidade e território                 10\n",
       "identidade e território                  8\n",
       "identidade                               4\n",
       "Identidade                               3\n",
       "Quilombolas;Conflito                     2\n",
       "Identidade e território                  2\n",
       "identidade (s)                           1\n",
       "identidade e conflito                    1\n",
       "identidade, território e conflitos       1\n",
       "Name: y, dtype: int64"
      ]
     },
     "execution_count": 30,
     "metadata": {},
     "output_type": "execute_result"
    }
   ],
   "source": [
    "df.y.value_counts()"
   ]
  }
 ],
 "metadata": {
  "kernelspec": {
   "display_name": "venv",
   "language": "python",
   "name": "venv"
  },
  "language_info": {
   "codemirror_mode": {
    "name": "ipython",
    "version": 3
   },
   "file_extension": ".py",
   "mimetype": "text/x-python",
   "name": "python",
   "nbconvert_exporter": "python",
   "pygments_lexer": "ipython3",
   "version": "3.9.6"
  }
 },
 "nbformat": 4,
 "nbformat_minor": 5
}
