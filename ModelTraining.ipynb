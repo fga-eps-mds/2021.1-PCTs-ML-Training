{
 "cells": [
  {
   "cell_type": "code",
   "execution_count": 10,
   "id": "79c376cc-a6cb-4360-b3f7-a8576855ce4a",
   "metadata": {},
   "outputs": [],
   "source": [
    "from xgboost import XGBClassifier\n",
    "from sklearn.naive_bayes import MultinomialNB\n",
    "import json\n",
    "import matplotlib.pyplot as plt\n",
    "from sklearn.metrics import confusion_matrix\n",
    "from sklearn.metrics import ConfusionMatrixDisplay\n",
    "import os\n",
    "from sklearn.feature_extraction.text import TfidfVectorizer\n",
    "from sklearn.model_selection import train_test_split\n",
    "import multiprocessing\n",
    "import pandas as pd\n",
    "from sklearn.metrics import classification_report"
   ]
  },
  {
   "cell_type": "code",
   "execution_count": 11,
   "id": "da5e58b1-4c8b-4d3a-b045-5fabde2f3b1f",
   "metadata": {},
   "outputs": [],
   "source": [
    "TEST_SIZE = 0.2\n",
    "CPU_COUNT = multiprocessing.cpu_count()"
   ]
  },
  {
   "cell_type": "code",
   "execution_count": 12,
   "id": "d8d53589-0698-4b4d-8fb5-fe36fa35f283",
   "metadata": {},
   "outputs": [],
   "source": [
    "def transform_data(texts):\n",
    "    vectorizer = TfidfVectorizer()\n",
    "    X = vectorizer.fit_transform(texts)\n",
    "    \n",
    "    return vectorizer, X"
   ]
  },
  {
   "cell_type": "code",
   "execution_count": 13,
   "id": "38d1b699-4548-4d16-81cc-f361b26bd39b",
   "metadata": {},
   "outputs": [],
   "source": [
    "def split_dataset(X, y):\n",
    "    X_train, X_test, Y_train, Y_test = train_test_split(\n",
    "                                                        X, y,\n",
    "                                                        test_size = TEST_SIZE,\n",
    "                                                        random_state = 1234,\n",
    "                                                        stratify = y\n",
    "                                                       )\n",
    "    return X_train, X_test, Y_train, Y_test"
   ]
  },
  {
   "cell_type": "code",
   "execution_count": 14,
   "id": "a79cc3dc-3b93-4b01-a2a8-1e84f4ca3fc0",
   "metadata": {},
   "outputs": [],
   "source": [
    "def xgboost_train(X_train, Y_train, X_test):\n",
    "    model = XGBClassifier(n_jobs=CPU_COUNT-4)\n",
    "    fitted_model = model.fit(X_train, Y_train)\n",
    "    pred_ = model.predict(X_test)\n",
    "    return model, pred_"
   ]
  },
  {
   "cell_type": "code",
   "execution_count": 15,
   "id": "f58b7dce-0014-43c8-9030-002e9de04586",
   "metadata": {},
   "outputs": [],
   "source": [
    "df = pd.read_parquet('./Data/training_data/df_v1.parquet.gzip')"
   ]
  },
  {
   "cell_type": "code",
   "execution_count": 16,
   "id": "1d276b03-ef97-4b1d-aa2d-838adca503ba",
   "metadata": {},
   "outputs": [],
   "source": [
    "df = df[df.y.isin(['Território', 'Quilombolas', 'Território;Quilombolas', 'identidade', 'Conflito', 'identidade e território', 'identidade e território'])]"
   ]
  },
  {
   "cell_type": "code",
   "execution_count": 17,
   "id": "b04840fe-5c50-432f-ad4f-4b5ca27a9103",
   "metadata": {},
   "outputs": [],
   "source": [
    "df = df[~df.y.isna()]"
   ]
  },
  {
   "cell_type": "code",
   "execution_count": 18,
   "id": "840d3768-8195-4b94-9a8f-1dd5c349a4d9",
   "metadata": {},
   "outputs": [],
   "source": [
    "y = df['y'].tolist()"
   ]
  },
  {
   "cell_type": "code",
   "execution_count": 19,
   "id": "55c60578-8371-4fff-ab75-46fe85401c54",
   "metadata": {},
   "outputs": [
    {
     "data": {
      "text/plain": [
       "Território                 148\n",
       "Quilombolas                 81\n",
       "Território;Quilombolas      70\n",
       "Conflito                    19\n",
       "identidade e território      8\n",
       "identidade                   4\n",
       "Name: y, dtype: int64"
      ]
     },
     "execution_count": 19,
     "metadata": {},
     "output_type": "execute_result"
    }
   ],
   "source": [
    "df.y.value_counts()"
   ]
  },
  {
   "cell_type": "code",
   "execution_count": 20,
   "id": "42b8ab62-3ef8-493f-9877-83332e5e8d4b",
   "metadata": {},
   "outputs": [],
   "source": [
    "vectorizer, X = transform_data(df.texto.tolist())"
   ]
  },
  {
   "cell_type": "code",
   "execution_count": 13,
   "id": "b6853f3a-32a4-4a30-87f4-5ac5140899ce",
   "metadata": {},
   "outputs": [],
   "source": [
    "X_train, X_test, Y_train, Y_test = split_dataset(X, y)"
   ]
  },
  {
   "cell_type": "code",
   "execution_count": 14,
   "id": "cbe6ebfc-eb46-4919-bfda-42153bd85a9d",
   "metadata": {},
   "outputs": [
    {
     "name": "stderr",
     "output_type": "stream",
     "text": [
      "/Users/caiofernandes/Desktop/Projetos/EPS/repos/2021.1-PCTs-ML-Training/venv/lib/python3.9/site-packages/xgboost/sklearn.py:1146: UserWarning: The use of label encoder in XGBClassifier is deprecated and will be removed in a future release. To remove this warning, do the following: 1) Pass option use_label_encoder=False when constructing XGBClassifier object; and 2) Encode your labels (y) as integers starting with 0, i.e. 0, 1, 2, ..., [num_class - 1].\n",
      "  warnings.warn(label_encoder_deprecation_msg, UserWarning)\n"
     ]
    },
    {
     "name": "stdout",
     "output_type": "stream",
     "text": [
      "[21:24:46] WARNING: /Users/travis/build/dmlc/xgboost/src/learner.cc:1095: Starting in XGBoost 1.3.0, the default evaluation metric used with the objective 'multi:softprob' was changed from 'merror' to 'mlogloss'. Explicitly set eval_metric if you'd like to restore the old behavior.\n"
     ]
    }
   ],
   "source": [
    "model, predict = xgboost_train(X_train, Y_train, X_test)"
   ]
  },
  {
   "cell_type": "code",
   "execution_count": 15,
   "id": "72aab0f1-ca4a-483e-9049-d11b8bc27240",
   "metadata": {},
   "outputs": [],
   "source": [
    "import pickle\n",
    "pickle.dump(model, open(\"./model.p\", \"wb\"))\n",
    "pickle.dump(predict, open(\"./predict.p\", \"wb\"))\n",
    "pickle.dump(Y_test, open(\"./Y_test.p\", \"wb\"))"
   ]
  },
  {
   "cell_type": "code",
   "execution_count": 7,
   "id": "3f11ec80-652c-4018-a0c7-16e683f1b2b0",
   "metadata": {},
   "outputs": [],
   "source": [
    "import pickle\n",
    "model = pickle.load(open(\"./model.p\", \"rb\"))\n",
    "predict = pickle.load(open(\"./predict.p\", \"rb\"))\n",
    "Y_test = pickle.load(open(\"./Y_test.p\", \"rb\"))"
   ]
  },
  {
   "cell_type": "code",
   "execution_count": 8,
   "id": "6ea1ad8f-fd3e-40c8-b3bd-60a47669c4bf",
   "metadata": {},
   "outputs": [
    {
     "name": "stdout",
     "output_type": "stream",
     "text": [
      "                         precision    recall  f1-score   support\n",
      "\n",
      "               Conflito       1.00      1.00      1.00         4\n",
      "            Quilombolas       0.78      0.88      0.82        16\n",
      "             Território       0.77      0.93      0.84        29\n",
      " Território;Quilombolas       0.86      0.43      0.57        14\n",
      "             identidade       0.00      0.00      0.00         1\n",
      "identidade e território       0.50      0.50      0.50         2\n",
      "\n",
      "               accuracy                           0.79        66\n",
      "              macro avg       0.65      0.62      0.62        66\n",
      "           weighted avg       0.79      0.79      0.77        66\n",
      "\n"
     ]
    },
    {
     "name": "stderr",
     "output_type": "stream",
     "text": [
      "/Users/caiofernandes/Desktop/Projetos/EPS/repos/2021.1-PCTs-ML-Training/venv/lib/python3.9/site-packages/sklearn/metrics/_classification.py:1308: UndefinedMetricWarning: Precision and F-score are ill-defined and being set to 0.0 in labels with no predicted samples. Use `zero_division` parameter to control this behavior.\n",
      "  _warn_prf(average, modifier, msg_start, len(result))\n",
      "/Users/caiofernandes/Desktop/Projetos/EPS/repos/2021.1-PCTs-ML-Training/venv/lib/python3.9/site-packages/sklearn/metrics/_classification.py:1308: UndefinedMetricWarning: Precision and F-score are ill-defined and being set to 0.0 in labels with no predicted samples. Use `zero_division` parameter to control this behavior.\n",
      "  _warn_prf(average, modifier, msg_start, len(result))\n",
      "/Users/caiofernandes/Desktop/Projetos/EPS/repos/2021.1-PCTs-ML-Training/venv/lib/python3.9/site-packages/sklearn/metrics/_classification.py:1308: UndefinedMetricWarning: Precision and F-score are ill-defined and being set to 0.0 in labels with no predicted samples. Use `zero_division` parameter to control this behavior.\n",
      "  _warn_prf(average, modifier, msg_start, len(result))\n"
     ]
    }
   ],
   "source": [
    "print(classification_report(Y_test, predict))"
   ]
  },
  {
   "cell_type": "code",
   "execution_count": 21,
   "id": "3a6d5c14-3c22-404c-aa63-e52e1f20388f",
   "metadata": {},
   "outputs": [],
   "source": [
    "pickle.dump(vectorizer, open(\"./vectorizer.p\", \"wb\"))"
   ]
  }
 ],
 "metadata": {
  "kernelspec": {
   "display_name": "venv",
   "language": "python",
   "name": "venv"
  },
  "language_info": {
   "codemirror_mode": {
    "name": "ipython",
    "version": 3
   },
   "file_extension": ".py",
   "mimetype": "text/x-python",
   "name": "python",
   "nbconvert_exporter": "python",
   "pygments_lexer": "ipython3",
   "version": "3.9.6"
  }
 },
 "nbformat": 4,
 "nbformat_minor": 5
}
