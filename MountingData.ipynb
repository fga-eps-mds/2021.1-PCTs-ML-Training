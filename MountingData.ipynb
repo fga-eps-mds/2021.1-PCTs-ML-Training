{
 "cells": [
  {
   "cell_type": "code",
   "execution_count": 3,
   "id": "ead9e839-a09e-4312-9e12-63439c19fecc",
   "metadata": {},
   "outputs": [],
   "source": [
    "import pandas as pd"
   ]
  },
  {
   "cell_type": "markdown",
   "id": "5e34cec2-568a-48aa-b345-7fbcfb4483af",
   "metadata": {},
   "source": [
    "## Dataframe exportado do google forms"
   ]
  },
  {
   "cell_type": "markdown",
   "id": "1fadd9d6-75b9-41ce-bd52-34f5022cd88c",
   "metadata": {},
   "source": [
    "### v1"
   ]
  },
  {
   "cell_type": "code",
   "execution_count": 11,
   "id": "42ba9ba7-b471-4826-b868-5c685cfd0d1c",
   "metadata": {},
   "outputs": [],
   "source": [
    "df1 = pd.read_csv('./Data/informacoes_de_contato.csv')"
   ]
  },
  {
   "cell_type": "markdown",
   "id": "b524fdc1-81a7-41d8-aaf2-385fad6876f7",
   "metadata": {},
   "source": [
    "### v2"
   ]
  },
  {
   "cell_type": "code",
   "execution_count": 46,
   "id": "f1fc7bb2-6cc2-4f0a-9fed-50e84ea3965b",
   "metadata": {},
   "outputs": [],
   "source": [
    "df1 = pd.read_csv('./Data/informacoes_de_contatov2.csv')"
   ]
  },
  {
   "cell_type": "markdown",
   "id": "0210c5a5-a03a-4213-9e19-2a2246c8659e",
   "metadata": {},
   "source": [
    "### v3"
   ]
  },
  {
   "cell_type": "code",
   "execution_count": 4,
   "id": "21ca96b8-fa4f-480c-ae17-ab5396ceaaf2",
   "metadata": {},
   "outputs": [],
   "source": [
    "df1 = pd.read_csv('./Data/informacoes_de_contatov3.csv')"
   ]
  },
  {
   "cell_type": "code",
   "execution_count": 5,
   "id": "035a80b3-f7ef-4aac-b488-15ed9d51d390",
   "metadata": {},
   "outputs": [],
   "source": [
    "df1 = df1.rename(columns = {'Qual a classificação?': 'y'})"
   ]
  },
  {
   "cell_type": "code",
   "execution_count": 6,
   "id": "3b871745-9350-415b-a6c9-f4565c0513b3",
   "metadata": {},
   "outputs": [
    {
     "data": {
      "text/plain": [
       "700"
      ]
     },
     "execution_count": 6,
     "metadata": {},
     "output_type": "execute_result"
    }
   ],
   "source": [
    "len(df1)"
   ]
  },
  {
   "cell_type": "code",
   "execution_count": 46,
   "id": "ab09bd6a-35df-4c8f-94c4-4eb6425a6e4b",
   "metadata": {},
   "outputs": [
    {
     "name": "stdout",
     "output_type": "stream",
     "text": [
      "<class 'pandas.core.frame.DataFrame'>\n",
      "RangeIndex: 700 entries, 0 to 699\n",
      "Data columns (total 8 columns):\n",
      " #   Column                               Non-Null Count  Dtype \n",
      "---  ------                               --------------  ----- \n",
      " 0   Carimbo de data/hora                 700 non-null    object\n",
      " 1   y                                    697 non-null    object\n",
      " 2   Positiva ou Negativa?                696 non-null    object\n",
      " 3   Fonte                                694 non-null    object\n",
      " 4   Autor                                602 non-null    object\n",
      " 5   Palavras-chave utilizada para busca  575 non-null    object\n",
      " 6   Teor textual                         700 non-null    object\n",
      " 7   Data de publicação                   651 non-null    object\n",
      "dtypes: object(8)\n",
      "memory usage: 43.9+ KB\n"
     ]
    }
   ],
   "source": [
    "df1.info()"
   ]
  },
  {
   "cell_type": "code",
   "execution_count": 62,
   "id": "81893c89-8378-441e-8b7b-b5da090e78c1",
   "metadata": {},
   "outputs": [
    {
     "data": {
      "text/plain": [
       "conflito       241\n",
       "identidade     118\n",
       "Quilombolas     82\n",
       "Território      78\n",
       "comunidade      50\n",
       "Name: y, dtype: int64"
      ]
     },
     "execution_count": 62,
     "metadata": {},
     "output_type": "execute_result"
    }
   ],
   "source": [
    "df1.y.value_counts()"
   ]
  },
  {
   "cell_type": "code",
   "execution_count": 10,
   "id": "18ee03ff-52e4-4b64-9d96-26e5ecee6a75",
   "metadata": {},
   "outputs": [],
   "source": [
    "df1 = df1[df1.y.isin(['conflito', 'identidade', 'Quilombolas', 'Território', 'comunidade'])]"
   ]
  },
  {
   "cell_type": "code",
   "execution_count": 7,
   "id": "a600bbd1-c118-4416-9025-c5fc0c41fdd2",
   "metadata": {},
   "outputs": [],
   "source": [
    "df1.loc[df1['y'] == ' conflito ', 'y'] = 'conflito' "
   ]
  },
  {
   "cell_type": "code",
   "execution_count": 12,
   "id": "bd1b35da-d702-41a8-a9fb-404eb94c7f70",
   "metadata": {},
   "outputs": [
    {
     "data": {
      "text/plain": [
       "'São textos vários - artigos, capítulos de livros, textos escritos para compor\\ncoletâneas, alocuções em audiências, falas solicitadas por movimentos sociais, palestras\\ne resenhas- que se referem a mais de duas décadas de práticas continuadas\\nde discussão e de debate, perpassando instituições universitárias, associações científi\\ncas (Associação Brasileira de Antropologia- ABA, Sociedade Brasileira Para\\no Progresso da Ciência-SBPC) e entidades representativas e de apoio a comunidades\\nquilombolas (Centro de Cultura Negra-MA, Federação das Organizações\\nQuilombolas de Santarém- FOQS, Movimentos dos Atingidos pela Base Espacial\\nde Alcântara- MABE, Coordenação Nacional de Articulação das Comunidades\\nNegras Rurais Quilombolas - CONAQ).'"
      ]
     },
     "execution_count": 12,
     "metadata": {},
     "output_type": "execute_result"
    }
   ],
   "source": [
    "df1.iloc[0]['Teor textual']"
   ]
  },
  {
   "cell_type": "markdown",
   "id": "7693ee43",
   "metadata": {},
   "source": [
    "### Extração TERRITORIO.docx"
   ]
  },
  {
   "cell_type": "code",
   "execution_count": 63,
   "id": "37f46623",
   "metadata": {},
   "outputs": [],
   "source": [
    "df_territorios = pd.read_pickle('./Data/classificador_territorios.pkl')"
   ]
  },
  {
   "cell_type": "code",
   "execution_count": 64,
   "id": "71ead920-f9a3-41e1-ac50-e9da7d8c44f1",
   "metadata": {},
   "outputs": [
    {
     "name": "stdout",
     "output_type": "stream",
     "text": [
      "<class 'pandas.core.frame.DataFrame'>\n",
      "RangeIndex: 70 entries, 0 to 69\n",
      "Data columns (total 4 columns):\n",
      " #   Column         Non-Null Count  Dtype \n",
      "---  ------         --------------  ----- \n",
      " 0   palavra_chave  70 non-null     object\n",
      " 1   tipo           70 non-null     object\n",
      " 2   fonte          70 non-null     object\n",
      " 3   texto          70 non-null     object\n",
      "dtypes: object(4)\n",
      "memory usage: 2.3+ KB\n"
     ]
    }
   ],
   "source": [
    "df_territorios.info()"
   ]
  },
  {
   "cell_type": "code",
   "execution_count": 65,
   "id": "00be584c-219b-4235-8d5e-9ecb86ad26f1",
   "metadata": {},
   "outputs": [],
   "source": [
    "df_territorios['y'] = \"Território\""
   ]
  },
  {
   "cell_type": "code",
   "execution_count": 66,
   "id": "b66b1b00-56c5-4af6-99e7-845d6688a40b",
   "metadata": {},
   "outputs": [
    {
     "name": "stdout",
     "output_type": "stream",
     "text": [
      "<class 'pandas.core.frame.DataFrame'>\n",
      "RangeIndex: 70 entries, 0 to 69\n",
      "Data columns (total 5 columns):\n",
      " #   Column         Non-Null Count  Dtype \n",
      "---  ------         --------------  ----- \n",
      " 0   palavra_chave  70 non-null     object\n",
      " 1   tipo           70 non-null     object\n",
      " 2   fonte          70 non-null     object\n",
      " 3   texto          70 non-null     object\n",
      " 4   y              70 non-null     object\n",
      "dtypes: object(5)\n",
      "memory usage: 2.9+ KB\n"
     ]
    }
   ],
   "source": [
    "df_territorios.info()"
   ]
  },
  {
   "cell_type": "code",
   "execution_count": 67,
   "id": "24967083-03a1-4ca5-b192-dc4502fbd7f7",
   "metadata": {},
   "outputs": [],
   "source": [
    "df1 = df1.rename(columns= {\"Palavras-chave utilizada para busca\": \"palavra_chave\",\n",
    "                           \"Positiva ou Negativa?\": \"tipo\",\n",
    "                           \"Fonte\": \"fonte\",\n",
    "                           \"Autor\": \"autor\",\n",
    "                           \"Teor textual\": \"texto\"})"
   ]
  },
  {
   "cell_type": "code",
   "execution_count": 68,
   "id": "bbc386ec-4cb9-4379-95e3-493d1bcdd1d5",
   "metadata": {},
   "outputs": [
    {
     "name": "stdout",
     "output_type": "stream",
     "text": [
      "<class 'pandas.core.frame.DataFrame'>\n",
      "Int64Index: 569 entries, 1 to 699\n",
      "Data columns (total 8 columns):\n",
      " #   Column                Non-Null Count  Dtype \n",
      "---  ------                --------------  ----- \n",
      " 0   Carimbo de data/hora  569 non-null    object\n",
      " 1   y                     569 non-null    object\n",
      " 2   tipo                  567 non-null    object\n",
      " 3   fonte                 566 non-null    object\n",
      " 4   autor                 489 non-null    object\n",
      " 5   palavra_chave         469 non-null    object\n",
      " 6   texto                 569 non-null    object\n",
      " 7   Data de publicação    521 non-null    object\n",
      "dtypes: object(8)\n",
      "memory usage: 40.0+ KB\n"
     ]
    }
   ],
   "source": [
    "df1.info()"
   ]
  },
  {
   "cell_type": "code",
   "execution_count": 69,
   "id": "0c776dcb-88fb-4baa-b7b7-2b4d45a0d2be",
   "metadata": {},
   "outputs": [],
   "source": [
    "df1 = df1[['palavra_chave', 'tipo', 'fonte', 'texto', 'y']]"
   ]
  },
  {
   "cell_type": "code",
   "execution_count": 70,
   "id": "8ea504da-0c9b-4a15-886e-b39bae93058a",
   "metadata": {},
   "outputs": [],
   "source": [
    "df_final = pd.concat([df1, df_territorios])"
   ]
  },
  {
   "cell_type": "code",
   "execution_count": 57,
   "id": "73bbe044-2cba-47a8-89f5-66f101fbfc05",
   "metadata": {},
   "outputs": [
    {
     "name": "stdout",
     "output_type": "stream",
     "text": [
      "<class 'pandas.core.frame.DataFrame'>\n",
      "Int64Index: 413 entries, 0 to 69\n",
      "Data columns (total 5 columns):\n",
      " #   Column         Non-Null Count  Dtype \n",
      "---  ------         --------------  ----- \n",
      " 0   palavra_chave  289 non-null    object\n",
      " 1   tipo           409 non-null    object\n",
      " 2   fonte          407 non-null    object\n",
      " 3   texto          413 non-null    object\n",
      " 4   y              411 non-null    object\n",
      "dtypes: object(5)\n",
      "memory usage: 19.4+ KB\n"
     ]
    }
   ],
   "source": [
    "df_final.info()"
   ]
  },
  {
   "cell_type": "code",
   "execution_count": 71,
   "id": "7f2ba822-b67e-4e89-81a5-9f08888cf003",
   "metadata": {},
   "outputs": [
    {
     "data": {
      "text/plain": [
       "639"
      ]
     },
     "execution_count": 71,
     "metadata": {},
     "output_type": "execute_result"
    }
   ],
   "source": [
    "len(df_final)"
   ]
  },
  {
   "cell_type": "code",
   "execution_count": 73,
   "id": "1c7f743a-c43d-49ae-96cf-e8e1c792aa10",
   "metadata": {},
   "outputs": [
    {
     "data": {
      "text/plain": [
       "conflito       241\n",
       "Território     148\n",
       "identidade     118\n",
       "Quilombolas     82\n",
       "comunidade      50\n",
       "Name: y, dtype: int64"
      ]
     },
     "execution_count": 73,
     "metadata": {},
     "output_type": "execute_result"
    }
   ],
   "source": [
    "df_final.y.value_counts()"
   ]
  },
  {
   "cell_type": "code",
   "execution_count": 72,
   "id": "7aa57601-2fbf-495e-9d39-5391ba24c736",
   "metadata": {},
   "outputs": [
    {
     "data": {
      "text/html": [
       "<div>\n",
       "<style scoped>\n",
       "    .dataframe tbody tr th:only-of-type {\n",
       "        vertical-align: middle;\n",
       "    }\n",
       "\n",
       "    .dataframe tbody tr th {\n",
       "        vertical-align: top;\n",
       "    }\n",
       "\n",
       "    .dataframe thead th {\n",
       "        text-align: right;\n",
       "    }\n",
       "</style>\n",
       "<table border=\"1\" class=\"dataframe\">\n",
       "  <thead>\n",
       "    <tr style=\"text-align: right;\">\n",
       "      <th></th>\n",
       "      <th>palavra_chave</th>\n",
       "      <th>tipo</th>\n",
       "      <th>fonte</th>\n",
       "      <th>texto</th>\n",
       "      <th>y</th>\n",
       "    </tr>\n",
       "  </thead>\n",
       "  <tbody>\n",
       "    <tr>\n",
       "      <th>1</th>\n",
       "      <td>quilombo; quilombola</td>\n",
       "      <td>Positiva</td>\n",
       "      <td>Quilombos e as novas etnias  http://novacartog...</td>\n",
       "      <td>São textos vários - artigos, capítulos de livr...</td>\n",
       "      <td>Quilombolas</td>\n",
       "    </tr>\n",
       "    <tr>\n",
       "      <th>2</th>\n",
       "      <td>quilombo; quilombola; comunidade</td>\n",
       "      <td>Positiva</td>\n",
       "      <td>Quilombos e as novas etnias  http://novacartog...</td>\n",
       "      <td>Passados quase 23 anos da promulgação da Const...</td>\n",
       "      <td>Quilombolas</td>\n",
       "    </tr>\n",
       "    <tr>\n",
       "      <th>3</th>\n",
       "      <td>direitos quilombolas; quilombo</td>\n",
       "      <td>Positiva</td>\n",
       "      <td>Quilombos e as novas etnias  http://novacartog...</td>\n",
       "      <td>Face aos sucessivos embates, cabe reiterar aos...</td>\n",
       "      <td>Quilombolas</td>\n",
       "    </tr>\n",
       "    <tr>\n",
       "      <th>4</th>\n",
       "      <td>comunidade quilombola; quilombo</td>\n",
       "      <td>Positiva</td>\n",
       "      <td>Quilombos e as novas etnias  http://novacartog...</td>\n",
       "      <td>Uma leitura crítica destas formulações levou-m...</td>\n",
       "      <td>Quilombolas</td>\n",
       "    </tr>\n",
       "    <tr>\n",
       "      <th>5</th>\n",
       "      <td>quilombo</td>\n",
       "      <td>Positiva</td>\n",
       "      <td>Quilombos e as novas etnias  http://novacartog...</td>\n",
       "      <td>No estado atual de conhecimento se percebe os ...</td>\n",
       "      <td>Quilombolas</td>\n",
       "    </tr>\n",
       "  </tbody>\n",
       "</table>\n",
       "</div>"
      ],
      "text/plain": [
       "                       palavra_chave      tipo  \\\n",
       "1              quilombo; quilombola   Positiva   \n",
       "2  quilombo; quilombola; comunidade   Positiva   \n",
       "3     direitos quilombolas; quilombo  Positiva   \n",
       "4   comunidade quilombola; quilombo   Positiva   \n",
       "5                           quilombo  Positiva   \n",
       "\n",
       "                                               fonte  \\\n",
       "1  Quilombos e as novas etnias  http://novacartog...   \n",
       "2  Quilombos e as novas etnias  http://novacartog...   \n",
       "3  Quilombos e as novas etnias  http://novacartog...   \n",
       "4  Quilombos e as novas etnias  http://novacartog...   \n",
       "5  Quilombos e as novas etnias  http://novacartog...   \n",
       "\n",
       "                                               texto            y  \n",
       "1  São textos vários - artigos, capítulos de livr...  Quilombolas  \n",
       "2  Passados quase 23 anos da promulgação da Const...  Quilombolas  \n",
       "3  Face aos sucessivos embates, cabe reiterar aos...  Quilombolas  \n",
       "4  Uma leitura crítica destas formulações levou-m...  Quilombolas  \n",
       "5  No estado atual de conhecimento se percebe os ...  Quilombolas  "
      ]
     },
     "execution_count": 72,
     "metadata": {},
     "output_type": "execute_result"
    }
   ],
   "source": [
    "df_final.head()"
   ]
  },
  {
   "cell_type": "code",
   "execution_count": 74,
   "id": "cedbc38b-e093-4a26-ab75-85f59e1443ea",
   "metadata": {},
   "outputs": [],
   "source": [
    "df_final.to_parquet('./Data/training_data/df_v2.parquet.gzip', compression='gzip')"
   ]
  },
  {
   "cell_type": "code",
   "execution_count": null,
   "id": "fbf6e4c5-0893-46ad-b32d-931e477446ba",
   "metadata": {},
   "outputs": [],
   "source": []
  }
 ],
 "metadata": {
  "kernelspec": {
   "display_name": "EPSvenv",
   "language": "python",
   "name": "epsvenv"
  },
  "language_info": {
   "codemirror_mode": {
    "name": "ipython",
    "version": 3
   },
   "file_extension": ".py",
   "mimetype": "text/x-python",
   "name": "python",
   "nbconvert_exporter": "python",
   "pygments_lexer": "ipython3",
   "version": "3.9.6"
  }
 },
 "nbformat": 4,
 "nbformat_minor": 5
}
