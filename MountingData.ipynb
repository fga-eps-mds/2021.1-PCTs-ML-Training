{
 "cells": [
  {
   "cell_type": "code",
   "execution_count": 1,
   "id": "ead9e839-a09e-4312-9e12-63439c19fecc",
   "metadata": {},
   "outputs": [],
   "source": [
    "import pandas as pd"
   ]
  },
  {
   "cell_type": "markdown",
   "id": "5e34cec2-568a-48aa-b345-7fbcfb4483af",
   "metadata": {},
   "source": [
    "## Dataframe exportado do google forms"
   ]
  },
  {
   "cell_type": "markdown",
   "id": "1fadd9d6-75b9-41ce-bd52-34f5022cd88c",
   "metadata": {},
   "source": [
    "### v1"
   ]
  },
  {
   "cell_type": "code",
   "execution_count": 11,
   "id": "42ba9ba7-b471-4826-b868-5c685cfd0d1c",
   "metadata": {},
   "outputs": [],
   "source": [
    "df1 = pd.read_csv('./Data/informacoes_de_contato.csv')"
   ]
  },
  {
   "cell_type": "markdown",
   "id": "b524fdc1-81a7-41d8-aaf2-385fad6876f7",
   "metadata": {},
   "source": [
    "### v2"
   ]
  },
  {
   "cell_type": "code",
   "execution_count": 46,
   "id": "f1fc7bb2-6cc2-4f0a-9fed-50e84ea3965b",
   "metadata": {},
   "outputs": [],
   "source": [
    "df1 = pd.read_csv('./Data/informacoes_de_contatov2.csv')"
   ]
  },
  {
   "cell_type": "markdown",
   "metadata": {},
   "source": [
    "### v3"
   ]
  },
  {
   "cell_type": "code",
   "execution_count": 3,
   "metadata": {},
   "outputs": [],
   "source": [
    "df1 = pd.read_csv('./Data/informacoes_de_contatov3.csv')"
   ]
  },
  {
   "cell_type": "code",
   "execution_count": 4,
   "id": "035a80b3-f7ef-4aac-b488-15ed9d51d390",
   "metadata": {},
   "outputs": [],
   "source": [
    "df1 = df1.rename(columns = {'Qual a classificação?': 'y'})"
   ]
  },
  {
   "cell_type": "code",
   "execution_count": 5,
   "id": "3b871745-9350-415b-a6c9-f4565c0513b3",
   "metadata": {},
   "outputs": [
    {
     "data": {
      "text/plain": [
       "829"
      ]
     },
     "execution_count": 5,
     "metadata": {},
     "output_type": "execute_result"
    }
   ],
   "source": [
    "len(df1)"
   ]
  },
  {
   "cell_type": "code",
   "execution_count": 6,
   "id": "ab09bd6a-35df-4c8f-94c4-4eb6425a6e4b",
   "metadata": {},
   "outputs": [
    {
     "name": "stdout",
     "output_type": "stream",
     "text": [
      "<class 'pandas.core.frame.DataFrame'>\n",
      "RangeIndex: 829 entries, 0 to 828\n",
      "Data columns (total 8 columns):\n",
      " #   Column                               Non-Null Count  Dtype \n",
      "---  ------                               --------------  ----- \n",
      " 0   Carimbo de data/hora                 829 non-null    object\n",
      " 1   y                                    826 non-null    object\n",
      " 2   Positiva ou Negativa?                825 non-null    object\n",
      " 3   Fonte                                823 non-null    object\n",
      " 4   Autor                                715 non-null    object\n",
      " 5   Palavras-chave utilizada para busca  704 non-null    object\n",
      " 6   Teor textual                         829 non-null    object\n",
      " 7   Data de publicação                   762 non-null    object\n",
      "dtypes: object(8)\n",
      "memory usage: 51.9+ KB\n"
     ]
    }
   ],
   "source": [
    "df1.info()"
   ]
  },
  {
   "cell_type": "code",
   "execution_count": 7,
   "id": "fefcfaf3-90ee-4db2-9c77-b5f781755be5",
   "metadata": {},
   "outputs": [
    {
     "data": {
      "text/html": [
       "<div>\n",
       "<style scoped>\n",
       "    .dataframe tbody tr th:only-of-type {\n",
       "        vertical-align: middle;\n",
       "    }\n",
       "\n",
       "    .dataframe tbody tr th {\n",
       "        vertical-align: top;\n",
       "    }\n",
       "\n",
       "    .dataframe thead th {\n",
       "        text-align: right;\n",
       "    }\n",
       "</style>\n",
       "<table border=\"1\" class=\"dataframe\">\n",
       "  <thead>\n",
       "    <tr style=\"text-align: right;\">\n",
       "      <th></th>\n",
       "      <th>Carimbo de data/hora</th>\n",
       "      <th>y</th>\n",
       "      <th>Positiva ou Negativa?</th>\n",
       "      <th>Fonte</th>\n",
       "      <th>Autor</th>\n",
       "      <th>Palavras-chave utilizada para busca</th>\n",
       "      <th>Teor textual</th>\n",
       "      <th>Data de publicação</th>\n",
       "    </tr>\n",
       "  </thead>\n",
       "  <tbody>\n",
       "    <tr>\n",
       "      <th>0</th>\n",
       "      <td>2021/09/24 4:46:00 PM GMT-3</td>\n",
       "      <td>Território;Quilombolas</td>\n",
       "      <td>Positiva</td>\n",
       "      <td>Quilombos e as novas etnias  http://novacartog...</td>\n",
       "      <td>NaN</td>\n",
       "      <td>quilombo; quilombola; comunidade</td>\n",
       "      <td>Foram produzidos sob o fogo cerrado de pressõe...</td>\n",
       "      <td>2011-01-01</td>\n",
       "    </tr>\n",
       "    <tr>\n",
       "      <th>1</th>\n",
       "      <td>2021/09/24 4:49:35 PM GMT-3</td>\n",
       "      <td>Quilombolas</td>\n",
       "      <td>Positiva</td>\n",
       "      <td>Quilombos e as novas etnias  http://novacartog...</td>\n",
       "      <td>Alfredo Wagner Berno de Almeida</td>\n",
       "      <td>quilombo; quilombola</td>\n",
       "      <td>São textos vários - artigos, capítulos de livr...</td>\n",
       "      <td>2011-01-01</td>\n",
       "    </tr>\n",
       "    <tr>\n",
       "      <th>2</th>\n",
       "      <td>2021/09/24 4:51:37 PM GMT-3</td>\n",
       "      <td>Quilombolas</td>\n",
       "      <td>Positiva</td>\n",
       "      <td>Quilombos e as novas etnias  http://novacartog...</td>\n",
       "      <td>Alfredo Wagner Berno de Almeida</td>\n",
       "      <td>quilombo; quilombola; comunidade</td>\n",
       "      <td>Passados quase 23 anos da promulgação da Const...</td>\n",
       "      <td>2011-01-01</td>\n",
       "    </tr>\n",
       "    <tr>\n",
       "      <th>3</th>\n",
       "      <td>2021/09/24 4:53:32 PM GMT-3</td>\n",
       "      <td>Quilombolas</td>\n",
       "      <td>Positiva</td>\n",
       "      <td>Quilombos e as novas etnias  http://novacartog...</td>\n",
       "      <td>Alfredo Wagner Berno de Almeida</td>\n",
       "      <td>direitos quilombolas; quilombo</td>\n",
       "      <td>Face aos sucessivos embates, cabe reiterar aos...</td>\n",
       "      <td>2011-01-01</td>\n",
       "    </tr>\n",
       "    <tr>\n",
       "      <th>4</th>\n",
       "      <td>2021/09/24 4:55:50 PM GMT-3</td>\n",
       "      <td>Quilombolas</td>\n",
       "      <td>Positiva</td>\n",
       "      <td>Quilombos e as novas etnias  http://novacartog...</td>\n",
       "      <td>Alfredo Wagner Berno de Almeida</td>\n",
       "      <td>comunidade quilombola; quilombo</td>\n",
       "      <td>Uma leitura crítica destas formulações levou-m...</td>\n",
       "      <td>2011-01-01</td>\n",
       "    </tr>\n",
       "  </tbody>\n",
       "</table>\n",
       "</div>"
      ],
      "text/plain": [
       "          Carimbo de data/hora                       y Positiva ou Negativa?  \\\n",
       "0  2021/09/24 4:46:00 PM GMT-3  Território;Quilombolas              Positiva   \n",
       "1  2021/09/24 4:49:35 PM GMT-3             Quilombolas              Positiva   \n",
       "2  2021/09/24 4:51:37 PM GMT-3             Quilombolas              Positiva   \n",
       "3  2021/09/24 4:53:32 PM GMT-3             Quilombolas              Positiva   \n",
       "4  2021/09/24 4:55:50 PM GMT-3             Quilombolas              Positiva   \n",
       "\n",
       "                                               Fonte  \\\n",
       "0  Quilombos e as novas etnias  http://novacartog...   \n",
       "1  Quilombos e as novas etnias  http://novacartog...   \n",
       "2  Quilombos e as novas etnias  http://novacartog...   \n",
       "3  Quilombos e as novas etnias  http://novacartog...   \n",
       "4  Quilombos e as novas etnias  http://novacartog...   \n",
       "\n",
       "                              Autor Palavras-chave utilizada para busca  \\\n",
       "0                               NaN    quilombo; quilombola; comunidade   \n",
       "1  Alfredo Wagner Berno de Almeida                quilombo; quilombola    \n",
       "2   Alfredo Wagner Berno de Almeida   quilombo; quilombola; comunidade    \n",
       "3   Alfredo Wagner Berno de Almeida      direitos quilombolas; quilombo   \n",
       "4   Alfredo Wagner Berno de Almeida    comunidade quilombola; quilombo    \n",
       "\n",
       "                                        Teor textual Data de publicação  \n",
       "0  Foram produzidos sob o fogo cerrado de pressõe...         2011-01-01  \n",
       "1  São textos vários - artigos, capítulos de livr...         2011-01-01  \n",
       "2  Passados quase 23 anos da promulgação da Const...         2011-01-01  \n",
       "3  Face aos sucessivos embates, cabe reiterar aos...         2011-01-01  \n",
       "4  Uma leitura crítica destas formulações levou-m...         2011-01-01  "
      ]
     },
     "execution_count": 7,
     "metadata": {},
     "output_type": "execute_result"
    }
   ],
   "source": [
    "df1.head()"
   ]
  },
  {
   "cell_type": "code",
   "execution_count": 8,
   "id": "81893c89-8378-441e-8b7b-b5da090e78c1",
   "metadata": {},
   "outputs": [
    {
     "data": {
      "text/plain": [
       "conflito                                      222\n",
       "comunidade                                    160\n",
       "identidade                                    103\n",
       "Quilombolas                                    82\n",
       "Território                                     78\n",
       "Território;Quilombolas                         70\n",
       "Conflito                                       19\n",
       "Estado                                         18\n",
       "identidade e território                        16\n",
       "identidade e território                        12\n",
       "identidade                                     12\n",
       "identidade, território, conflitos sociais       8\n",
       "Identidade                                      3\n",
       "Identidade e território                         2\n",
       "identidade; conflito                            2\n",
       " conflito                                       2\n",
       "Quilombolas;Conflito                            2\n",
       "identidade (s)                                  1\n",
       "conflito; mineração                             1\n",
       "competência                                     1\n",
       " comunidade                                     1\n",
       "comunidade                                      1\n",
       "conflitos                                       1\n",
       "identidade, território                          1\n",
       " identidade, território, conflitos sociais      1\n",
       "identidade, território. conflito                1\n",
       "identidade; território                          1\n",
       "identidade, território                          1\n",
       "conflito; identidade                            1\n",
       "identidade, território e conflitos              1\n",
       "identidade e conflito                           1\n",
       "identidade, conflito                            1\n",
       "Name: y, dtype: int64"
      ]
     },
     "execution_count": 8,
     "metadata": {},
     "output_type": "execute_result"
    }
   ],
   "source": [
    "df1.y.value_counts()"
   ]
  },
  {
   "cell_type": "markdown",
   "id": "7693ee43",
   "metadata": {},
   "source": [
    "### Extração TERRITORIO.docx"
   ]
  },
  {
   "cell_type": "code",
   "execution_count": 9,
   "id": "37f46623",
   "metadata": {},
   "outputs": [],
   "source": [
    "df_territorios = pd.read_pickle('./Data/classificador_territorios.pkl')"
   ]
  },
  {
   "cell_type": "code",
   "execution_count": 10,
   "id": "71ead920-f9a3-41e1-ac50-e9da7d8c44f1",
   "metadata": {},
   "outputs": [
    {
     "name": "stdout",
     "output_type": "stream",
     "text": [
      "<class 'pandas.core.frame.DataFrame'>\n",
      "RangeIndex: 70 entries, 0 to 69\n",
      "Data columns (total 4 columns):\n",
      " #   Column         Non-Null Count  Dtype \n",
      "---  ------         --------------  ----- \n",
      " 0   palavra_chave  70 non-null     object\n",
      " 1   tipo           70 non-null     object\n",
      " 2   fonte          70 non-null     object\n",
      " 3   texto          70 non-null     object\n",
      "dtypes: object(4)\n",
      "memory usage: 2.3+ KB\n"
     ]
    }
   ],
   "source": [
    "df_territorios.info()"
   ]
  },
  {
   "cell_type": "code",
   "execution_count": 11,
   "id": "00be584c-219b-4235-8d5e-9ecb86ad26f1",
   "metadata": {},
   "outputs": [],
   "source": [
    "df_territorios['y'] = \"Território\""
   ]
  },
  {
   "cell_type": "code",
   "execution_count": 12,
   "id": "b66b1b00-56c5-4af6-99e7-845d6688a40b",
   "metadata": {},
   "outputs": [
    {
     "name": "stdout",
     "output_type": "stream",
     "text": [
      "<class 'pandas.core.frame.DataFrame'>\n",
      "RangeIndex: 70 entries, 0 to 69\n",
      "Data columns (total 5 columns):\n",
      " #   Column         Non-Null Count  Dtype \n",
      "---  ------         --------------  ----- \n",
      " 0   palavra_chave  70 non-null     object\n",
      " 1   tipo           70 non-null     object\n",
      " 2   fonte          70 non-null     object\n",
      " 3   texto          70 non-null     object\n",
      " 4   y              70 non-null     object\n",
      "dtypes: object(5)\n",
      "memory usage: 2.9+ KB\n"
     ]
    }
   ],
   "source": [
    "df_territorios.info()"
   ]
  },
  {
   "cell_type": "code",
   "execution_count": 13,
   "id": "24967083-03a1-4ca5-b192-dc4502fbd7f7",
   "metadata": {},
   "outputs": [],
   "source": [
    "df1 = df1.rename(columns= {\"Palavras-chave utilizada para busca\": \"palavra_chave\",\n",
    "                           \"Positiva ou Negativa?\": \"tipo\",\n",
    "                           \"Fonte\": \"fonte\",\n",
    "                           \"Autor\": \"autor\",\n",
    "                           \"Teor textual\": \"texto\"})"
   ]
  },
  {
   "cell_type": "code",
   "execution_count": 14,
   "id": "bbc386ec-4cb9-4379-95e3-493d1bcdd1d5",
   "metadata": {},
   "outputs": [
    {
     "name": "stdout",
     "output_type": "stream",
     "text": [
      "<class 'pandas.core.frame.DataFrame'>\n",
      "RangeIndex: 829 entries, 0 to 828\n",
      "Data columns (total 8 columns):\n",
      " #   Column                Non-Null Count  Dtype \n",
      "---  ------                --------------  ----- \n",
      " 0   Carimbo de data/hora  829 non-null    object\n",
      " 1   y                     826 non-null    object\n",
      " 2   tipo                  825 non-null    object\n",
      " 3   fonte                 823 non-null    object\n",
      " 4   autor                 715 non-null    object\n",
      " 5   palavra_chave         704 non-null    object\n",
      " 6   texto                 829 non-null    object\n",
      " 7   Data de publicação    762 non-null    object\n",
      "dtypes: object(8)\n",
      "memory usage: 51.9+ KB\n"
     ]
    }
   ],
   "source": [
    "df1.info()"
   ]
  },
  {
   "cell_type": "code",
   "execution_count": 15,
   "id": "0c776dcb-88fb-4baa-b7b7-2b4d45a0d2be",
   "metadata": {},
   "outputs": [],
   "source": [
    "df1 = df1[['palavra_chave', 'tipo', 'fonte', 'texto', 'y']]"
   ]
  },
  {
   "cell_type": "code",
   "execution_count": 16,
   "id": "8ea504da-0c9b-4a15-886e-b39bae93058a",
   "metadata": {},
   "outputs": [],
   "source": [
    "df_final = pd.concat([df1, df_territorios])"
   ]
  },
  {
   "cell_type": "code",
   "execution_count": 17,
   "id": "73bbe044-2cba-47a8-89f5-66f101fbfc05",
   "metadata": {},
   "outputs": [
    {
     "name": "stdout",
     "output_type": "stream",
     "text": [
      "<class 'pandas.core.frame.DataFrame'>\n",
      "Int64Index: 899 entries, 0 to 69\n",
      "Data columns (total 5 columns):\n",
      " #   Column         Non-Null Count  Dtype \n",
      "---  ------         --------------  ----- \n",
      " 0   palavra_chave  774 non-null    object\n",
      " 1   tipo           895 non-null    object\n",
      " 2   fonte          893 non-null    object\n",
      " 3   texto          899 non-null    object\n",
      " 4   y              896 non-null    object\n",
      "dtypes: object(5)\n",
      "memory usage: 42.1+ KB\n"
     ]
    }
   ],
   "source": [
    "df_final.info()"
   ]
  },
  {
   "cell_type": "code",
   "execution_count": 18,
   "id": "7f2ba822-b67e-4e89-81a5-9f08888cf003",
   "metadata": {},
   "outputs": [
    {
     "data": {
      "text/plain": [
       "899"
      ]
     },
     "execution_count": 18,
     "metadata": {},
     "output_type": "execute_result"
    }
   ],
   "source": [
    "len(df_final)"
   ]
  },
  {
   "cell_type": "code",
   "execution_count": 19,
   "id": "7aa57601-2fbf-495e-9d39-5391ba24c736",
   "metadata": {},
   "outputs": [
    {
     "data": {
      "text/html": [
       "<div>\n",
       "<style scoped>\n",
       "    .dataframe tbody tr th:only-of-type {\n",
       "        vertical-align: middle;\n",
       "    }\n",
       "\n",
       "    .dataframe tbody tr th {\n",
       "        vertical-align: top;\n",
       "    }\n",
       "\n",
       "    .dataframe thead th {\n",
       "        text-align: right;\n",
       "    }\n",
       "</style>\n",
       "<table border=\"1\" class=\"dataframe\">\n",
       "  <thead>\n",
       "    <tr style=\"text-align: right;\">\n",
       "      <th></th>\n",
       "      <th>palavra_chave</th>\n",
       "      <th>tipo</th>\n",
       "      <th>fonte</th>\n",
       "      <th>texto</th>\n",
       "      <th>y</th>\n",
       "    </tr>\n",
       "  </thead>\n",
       "  <tbody>\n",
       "    <tr>\n",
       "      <th>0</th>\n",
       "      <td>quilombo; quilombola; comunidade</td>\n",
       "      <td>Positiva</td>\n",
       "      <td>Quilombos e as novas etnias  http://novacartog...</td>\n",
       "      <td>Foram produzidos sob o fogo cerrado de pressõe...</td>\n",
       "      <td>Território;Quilombolas</td>\n",
       "    </tr>\n",
       "    <tr>\n",
       "      <th>1</th>\n",
       "      <td>quilombo; quilombola</td>\n",
       "      <td>Positiva</td>\n",
       "      <td>Quilombos e as novas etnias  http://novacartog...</td>\n",
       "      <td>São textos vários - artigos, capítulos de livr...</td>\n",
       "      <td>Quilombolas</td>\n",
       "    </tr>\n",
       "    <tr>\n",
       "      <th>2</th>\n",
       "      <td>quilombo; quilombola; comunidade</td>\n",
       "      <td>Positiva</td>\n",
       "      <td>Quilombos e as novas etnias  http://novacartog...</td>\n",
       "      <td>Passados quase 23 anos da promulgação da Const...</td>\n",
       "      <td>Quilombolas</td>\n",
       "    </tr>\n",
       "    <tr>\n",
       "      <th>3</th>\n",
       "      <td>direitos quilombolas; quilombo</td>\n",
       "      <td>Positiva</td>\n",
       "      <td>Quilombos e as novas etnias  http://novacartog...</td>\n",
       "      <td>Face aos sucessivos embates, cabe reiterar aos...</td>\n",
       "      <td>Quilombolas</td>\n",
       "    </tr>\n",
       "    <tr>\n",
       "      <th>4</th>\n",
       "      <td>comunidade quilombola; quilombo</td>\n",
       "      <td>Positiva</td>\n",
       "      <td>Quilombos e as novas etnias  http://novacartog...</td>\n",
       "      <td>Uma leitura crítica destas formulações levou-m...</td>\n",
       "      <td>Quilombolas</td>\n",
       "    </tr>\n",
       "  </tbody>\n",
       "</table>\n",
       "</div>"
      ],
      "text/plain": [
       "                       palavra_chave      tipo  \\\n",
       "0   quilombo; quilombola; comunidade  Positiva   \n",
       "1              quilombo; quilombola   Positiva   \n",
       "2  quilombo; quilombola; comunidade   Positiva   \n",
       "3     direitos quilombolas; quilombo  Positiva   \n",
       "4   comunidade quilombola; quilombo   Positiva   \n",
       "\n",
       "                                               fonte  \\\n",
       "0  Quilombos e as novas etnias  http://novacartog...   \n",
       "1  Quilombos e as novas etnias  http://novacartog...   \n",
       "2  Quilombos e as novas etnias  http://novacartog...   \n",
       "3  Quilombos e as novas etnias  http://novacartog...   \n",
       "4  Quilombos e as novas etnias  http://novacartog...   \n",
       "\n",
       "                                               texto                       y  \n",
       "0  Foram produzidos sob o fogo cerrado de pressõe...  Território;Quilombolas  \n",
       "1  São textos vários - artigos, capítulos de livr...             Quilombolas  \n",
       "2  Passados quase 23 anos da promulgação da Const...             Quilombolas  \n",
       "3  Face aos sucessivos embates, cabe reiterar aos...             Quilombolas  \n",
       "4  Uma leitura crítica destas formulações levou-m...             Quilombolas  "
      ]
     },
     "execution_count": 19,
     "metadata": {},
     "output_type": "execute_result"
    }
   ],
   "source": [
    "df_final.head()"
   ]
  },
  {
   "cell_type": "code",
   "execution_count": 21,
   "id": "cedbc38b-e093-4a26-ab75-85f59e1443ea",
   "metadata": {},
   "outputs": [],
   "source": [
    "df_final.to_parquet('./Data/training_data/df_v1.parquet.gzip', compression='gzip')"
   ]
  }
 ],
 "metadata": {
  "interpreter": {
   "hash": "31f2aee4e71d21fbe5cf8b01ff0e069b9275f58929596ceb00d14d90e3e16cd6"
  },
  "kernelspec": {
   "display_name": "Python 3.8.10 64-bit",
   "name": "python3"
  },
  "language_info": {
   "codemirror_mode": {
    "name": "ipython",
    "version": 3
   },
   "file_extension": ".py",
   "mimetype": "text/x-python",
   "name": "python",
   "nbconvert_exporter": "python",
   "pygments_lexer": "ipython3",
   "version": "3.8.10"
  }
 },
 "nbformat": 4,
 "nbformat_minor": 5
}
