{
 "cells": [
  {
   "cell_type": "code",
   "execution_count": 1,
   "id": "ead9e839-a09e-4312-9e12-63439c19fecc",
   "metadata": {},
   "outputs": [],
   "source": [
    "import pandas as pd"
   ]
  },
  {
   "cell_type": "code",
   "execution_count": 2,
   "id": "42ba9ba7-b471-4826-b868-5c685cfd0d1c",
   "metadata": {},
   "outputs": [],
   "source": [
    "df = pd.read_csv('./Data/informacoes_de_contato.csv')"
   ]
  },
  {
   "cell_type": "code",
   "execution_count": 4,
   "id": "ab09bd6a-35df-4c8f-94c4-4eb6425a6e4b",
   "metadata": {},
   "outputs": [
    {
     "name": "stdout",
     "output_type": "stream",
     "text": [
      "<class 'pandas.core.frame.DataFrame'>\n",
      "RangeIndex: 230 entries, 0 to 229\n",
      "Data columns (total 8 columns):\n",
      " #   Column                               Non-Null Count  Dtype \n",
      "---  ------                               --------------  ----- \n",
      " 0   Carimbo de data/hora                 230 non-null    object\n",
      " 1   Qual a classificação?                229 non-null    object\n",
      " 2   Positiva ou Negativa?                228 non-null    object\n",
      " 3   Fonte                                224 non-null    object\n",
      " 4   Autor                                218 non-null    object\n",
      " 5   Palavras-chave utilizada para busca  137 non-null    object\n",
      " 6   Teor textual                         230 non-null    object\n",
      " 7   Data de publicação                   230 non-null    object\n",
      "dtypes: object(8)\n",
      "memory usage: 14.5+ KB\n"
     ]
    }
   ],
   "source": [
    "df.info()"
   ]
  },
  {
   "cell_type": "code",
   "execution_count": 6,
   "id": "d0332441-2323-40ed-9f53-347df9811937",
   "metadata": {},
   "outputs": [
    {
     "data": {
      "text/plain": [
       "Quilombolas               81\n",
       "Território                78\n",
       "Território;Quilombolas    70\n",
       "Name: Qual a classificação?, dtype: int64"
      ]
     },
     "execution_count": 6,
     "metadata": {},
     "output_type": "execute_result"
    }
   ],
   "source": [
    "df['Qual a classificação?'].value_counts()"
   ]
  },
  {
   "cell_type": "code",
   "execution_count": null,
   "id": "f8b62bfe-c838-4ed2-9a09-a5a35d9d719f",
   "metadata": {},
   "outputs": [],
   "source": []
  }
 ],
 "metadata": {
  "kernelspec": {
   "display_name": "venv",
   "language": "python",
   "name": "venv"
  },
  "language_info": {
   "codemirror_mode": {
    "name": "ipython",
    "version": 3
   },
   "file_extension": ".py",
   "mimetype": "text/x-python",
   "name": "python",
   "nbconvert_exporter": "python",
   "pygments_lexer": "ipython3",
   "version": "3.9.6"
  }
 },
 "nbformat": 4,
 "nbformat_minor": 5
}
